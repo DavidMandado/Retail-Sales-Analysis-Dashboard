{
 "cells": [
  {
   "cell_type": "markdown",
   "metadata": {},
   "source": [
    "The goal of this section is loading the dataset, observing it and identifying possible following data cleaning steps"
   ]
  },
  {
   "cell_type": "code",
   "execution_count": 1,
   "metadata": {},
   "outputs": [
    {
     "data": {
      "text/html": [
       "<div>\n",
       "<style scoped>\n",
       "    .dataframe tbody tr th:only-of-type {\n",
       "        vertical-align: middle;\n",
       "    }\n",
       "\n",
       "    .dataframe tbody tr th {\n",
       "        vertical-align: top;\n",
       "    }\n",
       "\n",
       "    .dataframe thead th {\n",
       "        text-align: right;\n",
       "    }\n",
       "</style>\n",
       "<table border=\"1\" class=\"dataframe\">\n",
       "  <thead>\n",
       "    <tr style=\"text-align: right;\">\n",
       "      <th></th>\n",
       "      <th>InvoiceNo</th>\n",
       "      <th>StockCode</th>\n",
       "      <th>Description</th>\n",
       "      <th>Quantity</th>\n",
       "      <th>InvoiceDate</th>\n",
       "      <th>UnitPrice</th>\n",
       "      <th>CustomerID</th>\n",
       "      <th>Country</th>\n",
       "    </tr>\n",
       "  </thead>\n",
       "  <tbody>\n",
       "    <tr>\n",
       "      <th>0</th>\n",
       "      <td>536365</td>\n",
       "      <td>85123A</td>\n",
       "      <td>WHITE HANGING HEART T-LIGHT HOLDER</td>\n",
       "      <td>6</td>\n",
       "      <td>01-12-2010 08:26</td>\n",
       "      <td>2.55</td>\n",
       "      <td>17850.0</td>\n",
       "      <td>United Kingdom</td>\n",
       "    </tr>\n",
       "    <tr>\n",
       "      <th>1</th>\n",
       "      <td>536365</td>\n",
       "      <td>71053</td>\n",
       "      <td>WHITE METAL LANTERN</td>\n",
       "      <td>6</td>\n",
       "      <td>01-12-2010 08:26</td>\n",
       "      <td>3.39</td>\n",
       "      <td>17850.0</td>\n",
       "      <td>United Kingdom</td>\n",
       "    </tr>\n",
       "    <tr>\n",
       "      <th>2</th>\n",
       "      <td>536365</td>\n",
       "      <td>84406B</td>\n",
       "      <td>CREAM CUPID HEARTS COAT HANGER</td>\n",
       "      <td>8</td>\n",
       "      <td>01-12-2010 08:26</td>\n",
       "      <td>2.75</td>\n",
       "      <td>17850.0</td>\n",
       "      <td>United Kingdom</td>\n",
       "    </tr>\n",
       "    <tr>\n",
       "      <th>3</th>\n",
       "      <td>536365</td>\n",
       "      <td>84029G</td>\n",
       "      <td>KNITTED UNION FLAG HOT WATER BOTTLE</td>\n",
       "      <td>6</td>\n",
       "      <td>01-12-2010 08:26</td>\n",
       "      <td>3.39</td>\n",
       "      <td>17850.0</td>\n",
       "      <td>United Kingdom</td>\n",
       "    </tr>\n",
       "    <tr>\n",
       "      <th>4</th>\n",
       "      <td>536365</td>\n",
       "      <td>84029E</td>\n",
       "      <td>RED WOOLLY HOTTIE WHITE HEART.</td>\n",
       "      <td>6</td>\n",
       "      <td>01-12-2010 08:26</td>\n",
       "      <td>3.39</td>\n",
       "      <td>17850.0</td>\n",
       "      <td>United Kingdom</td>\n",
       "    </tr>\n",
       "  </tbody>\n",
       "</table>\n",
       "</div>"
      ],
      "text/plain": [
       "  InvoiceNo StockCode                          Description  Quantity  \\\n",
       "0    536365    85123A   WHITE HANGING HEART T-LIGHT HOLDER         6   \n",
       "1    536365     71053                  WHITE METAL LANTERN         6   \n",
       "2    536365    84406B       CREAM CUPID HEARTS COAT HANGER         8   \n",
       "3    536365    84029G  KNITTED UNION FLAG HOT WATER BOTTLE         6   \n",
       "4    536365    84029E       RED WOOLLY HOTTIE WHITE HEART.         6   \n",
       "\n",
       "        InvoiceDate  UnitPrice  CustomerID         Country  \n",
       "0  01-12-2010 08:26       2.55     17850.0  United Kingdom  \n",
       "1  01-12-2010 08:26       3.39     17850.0  United Kingdom  \n",
       "2  01-12-2010 08:26       2.75     17850.0  United Kingdom  \n",
       "3  01-12-2010 08:26       3.39     17850.0  United Kingdom  \n",
       "4  01-12-2010 08:26       3.39     17850.0  United Kingdom  "
      ]
     },
     "execution_count": 1,
     "metadata": {},
     "output_type": "execute_result"
    }
   ],
   "source": [
    "import pandas as pd\n",
    "\n",
    "file_path = \"../DATA/Online Retail Data Set.csv\"\n",
    "data = pd.read_csv(file_path, encoding='ISO-8859-1')\n",
    "\n",
    "data.head()"
   ]
  },
  {
   "cell_type": "markdown",
   "metadata": {},
   "source": [
    "### Step 1: Splitting InvoiceDate into Separate Columns\n",
    "To facilitate seasonal and hourly analysis, the `InvoiceDate` column was split into four new columns:\n",
    "- `Day`: The day of the month.\n",
    "- `Month`: The month of the year.\n",
    "- `Year`: The year of the transaction.\n",
    "- `Hour`: The hour of the transaction.\n",
    "\n",
    "This step ensures flexibility in analyzing patterns over time and during different parts of the day."
   ]
  },
  {
   "cell_type": "code",
   "execution_count": 2,
   "metadata": {},
   "outputs": [
    {
     "name": "stdout",
     "output_type": "stream",
     "text": [
      "          InvoiceDate   Day  Month    Year  Hour\n",
      "0 2010-01-12 08:26:00  12.0    1.0  2010.0   8.0\n",
      "1 2010-01-12 08:26:00  12.0    1.0  2010.0   8.0\n",
      "2 2010-01-12 08:26:00  12.0    1.0  2010.0   8.0\n",
      "3 2010-01-12 08:26:00  12.0    1.0  2010.0   8.0\n",
      "4 2010-01-12 08:26:00  12.0    1.0  2010.0   8.0\n"
     ]
    }
   ],
   "source": [
    "# Ensure InvoiceDate is in datetime format\n",
    "data['InvoiceDate'] = pd.to_datetime(data['InvoiceDate'], errors='coerce')\n",
    "\n",
    "# Create new columns for Day, Month, Year, and Hour\n",
    "data['Day'] = data['InvoiceDate'].dt.day\n",
    "data['Month'] = data['InvoiceDate'].dt.month\n",
    "data['Year'] = data['InvoiceDate'].dt.year\n",
    "data['Hour'] = data['InvoiceDate'].dt.hour\n",
    "\n",
    "# Confirm the changes\n",
    "print(data[['InvoiceDate', 'Day', 'Month', 'Year', 'Hour']].head())"
   ]
  },
  {
   "cell_type": "markdown",
   "metadata": {},
   "source": [
    "### Step 2: Missing Values Analysis\n",
    "To understand the quality of the data, a statistical analysis of missing values was performed:\n",
    "- Counted the total missing values per column.\n",
    "- Calculated the percentage of missing values relative to the total dataset size.\n",
    "\n",
    "This helped prioritize which columns required attention."
   ]
  },
  {
   "cell_type": "code",
   "execution_count": 3,
   "metadata": {},
   "outputs": [
    {
     "name": "stdout",
     "output_type": "stream",
     "text": [
      "         Column  MissingCount  Percentage\n",
      "0     InvoiceNo             0    0.000000\n",
      "1     StockCode             0    0.000000\n",
      "2   Description          1454    0.268311\n",
      "3      Quantity             0    0.000000\n",
      "4   InvoiceDate        308950   57.011417\n",
      "5     UnitPrice             0    0.000000\n",
      "6    CustomerID        135080   24.926694\n",
      "7       Country             0    0.000000\n",
      "8           Day        308950   57.011417\n",
      "9         Month        308950   57.011417\n",
      "10         Year        308950   57.011417\n",
      "11         Hour        308950   57.011417\n"
     ]
    }
   ],
   "source": [
    "# Analyze missing values\n",
    "missing_values_stats = data.isnull().sum().reset_index()\n",
    "missing_values_stats.columns = ['Column', 'MissingCount']\n",
    "missing_values_stats['Percentage'] = (missing_values_stats['MissingCount'] / len(data)) * 100\n",
    "\n",
    "# Display missing value statistics\n",
    "print(missing_values_stats)"
   ]
  },
  {
   "cell_type": "markdown",
   "metadata": {},
   "source": [
    "### Step 3: Handling Discounts\n",
    "Rows where `UnitPrice` is zero were identified as discounts. There are approximately 100 discount lines in the dataset. These rows are negligible compared to the dataset size (541,910 rows) and can be removed for simplicity unless further analysis of discounts is required.\n"
   ]
  },
  {
   "cell_type": "code",
   "execution_count": 4,
   "metadata": {},
   "outputs": [
    {
     "name": "stdout",
     "output_type": "stream",
     "text": [
      "Number of discount rows: 2515\n",
      "     InvoiceNo StockCode Description  Quantity         InvoiceDate  UnitPrice  \\\n",
      "622     536414     22139         NaN        56 2010-01-12 11:52:00        0.0   \n",
      "1970    536545     21134         NaN         1 2010-01-12 14:32:00        0.0   \n",
      "1971    536546     22145         NaN         1 2010-01-12 14:33:00        0.0   \n",
      "1972    536547     37509         NaN         1 2010-01-12 14:33:00        0.0   \n",
      "1987    536549    85226A         NaN         1 2010-01-12 14:34:00        0.0   \n",
      "\n",
      "      CustomerID         Country   Day  Month    Year  Hour  \n",
      "622          NaN  United Kingdom  12.0    1.0  2010.0  11.0  \n",
      "1970         NaN  United Kingdom  12.0    1.0  2010.0  14.0  \n",
      "1971         NaN  United Kingdom  12.0    1.0  2010.0  14.0  \n",
      "1972         NaN  United Kingdom  12.0    1.0  2010.0  14.0  \n",
      "1987         NaN  United Kingdom  12.0    1.0  2010.0  14.0  \n"
     ]
    }
   ],
   "source": [
    "# Identify discount lines (UnitPrice = 0)\n",
    "discount_lines = data[data['UnitPrice'] == 0]\n",
    "\n",
    "# Count and examine sample discount lines\n",
    "print(f\"Number of discount rows: {len(discount_lines)}\")\n",
    "print(discount_lines.head())"
   ]
  },
  {
   "cell_type": "markdown",
   "metadata": {},
   "source": [
    "### Step 4: Handling Negative Quantities\n",
    "Rows with negative values in the `Quantity` column were identified as potential refunds or errors. These rows were:\n",
    "- Counted to determine the extent of the issue.\n",
    "- Further analyzed to check patterns (e.g., refund-related invoices).\n",
    "\n",
    "These rows can either be excluded or categorized depending on the analysis objectives."
   ]
  },
  {
   "cell_type": "code",
   "execution_count": 5,
   "metadata": {},
   "outputs": [
    {
     "name": "stdout",
     "output_type": "stream",
     "text": [
      "Number of rows with negative quantities: 10624\n",
      "    InvoiceNo StockCode                       Description  Quantity  \\\n",
      "141   C536379         D                          Discount        -1   \n",
      "154   C536383    35004C   SET OF 3 COLOURED  FLYING DUCKS        -1   \n",
      "235   C536391     22556    PLASTERS IN TIN CIRCUS PARADE        -12   \n",
      "236   C536391     21984  PACK OF 12 PINK PAISLEY TISSUES        -24   \n",
      "237   C536391     21983  PACK OF 12 BLUE PAISLEY TISSUES        -24   \n",
      "\n",
      "            InvoiceDate  UnitPrice  CustomerID         Country   Day  Month  \\\n",
      "141 2010-01-12 09:41:00      27.50     14527.0  United Kingdom  12.0    1.0   \n",
      "154 2010-01-12 09:49:00       4.65     15311.0  United Kingdom  12.0    1.0   \n",
      "235 2010-01-12 10:24:00       1.65     17548.0  United Kingdom  12.0    1.0   \n",
      "236 2010-01-12 10:24:00       0.29     17548.0  United Kingdom  12.0    1.0   \n",
      "237 2010-01-12 10:24:00       0.29     17548.0  United Kingdom  12.0    1.0   \n",
      "\n",
      "       Year  Hour  \n",
      "141  2010.0   9.0  \n",
      "154  2010.0   9.0  \n",
      "235  2010.0  10.0  \n",
      "236  2010.0  10.0  \n",
      "237  2010.0  10.0  \n"
     ]
    }
   ],
   "source": [
    "# Identify rows with negative quantities\n",
    "negative_quantity_lines = data[data['Quantity'] < 0]\n",
    "\n",
    "# Count and display sample negative quantity rows\n",
    "print(f\"Number of rows with negative quantities: {len(negative_quantity_lines)}\")\n",
    "print(negative_quantity_lines.head())\n"
   ]
  },
  {
   "cell_type": "markdown",
   "metadata": {},
   "source": [
    "### Step 5: Exploring Product Purchase Patterns\n",
    "To understand customer behavior:\n",
    "- Grouped purchases by `CustomerID` and `InvoiceNo` to analyze products purchased together.\n",
    "- This analysis helps in identifying commonly bought product combinations, which can guide marketing strategies such as personalized discounts or bundling recommendations."
   ]
  },
  {
   "cell_type": "code",
   "execution_count": 6,
   "metadata": {},
   "outputs": [
    {
     "name": "stdout",
     "output_type": "stream",
     "text": [
      "CustomerID  InvoiceNo\n",
      "12346.0     541431                        [MEDIUM CERAMIC TOP STORAGE JAR]\n",
      "            C541433                       [MEDIUM CERAMIC TOP STORAGE JAR]\n",
      "12347.0     537626       [BLACK CANDELABRA T-LIGHT HOLDER, AIRLINE BAG ...\n",
      "            542237       [PINK NEW BAROQUECANDLESTICK CANDLE, BLUE NEW ...\n",
      "            549222       [AIRLINE BAG VINTAGE JET SET WHITE, AIRLINE BA...\n",
      "Name: Description, dtype: object\n"
     ]
    }
   ],
   "source": [
    "# Group by CustomerID and InvoiceNo to find product combinations\n",
    "grouped_data = data.groupby(['CustomerID', 'InvoiceNo'])['Description'].apply(list)\n",
    "\n",
    "# Display a sample of product combinations\n",
    "print(grouped_data.head())"
   ]
  }
 ],
 "metadata": {
  "kernelspec": {
   "display_name": "JBL010",
   "language": "python",
   "name": "python3"
  },
  "language_info": {
   "codemirror_mode": {
    "name": "ipython",
    "version": 3
   },
   "file_extension": ".py",
   "mimetype": "text/x-python",
   "name": "python",
   "nbconvert_exporter": "python",
   "pygments_lexer": "ipython3",
   "version": "3.10.13"
  }
 },
 "nbformat": 4,
 "nbformat_minor": 2
}
